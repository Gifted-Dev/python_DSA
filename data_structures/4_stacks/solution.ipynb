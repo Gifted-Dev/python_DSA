{
 "cells": [
  {
   "cell_type": "markdown",
   "metadata": {},
   "source": [
    "1. Write a function in python that can reverse a string using stack data structure. Use [Stack class](https://github.com/codebasics/data-structures-algorithms-python/blob/master/data_structures/5_Stack/5_stack.ipynb) from the tutorial.\n",
    "    ```\n",
    "    reverse_string(\"We will conquere COVID-19\") should return \"91-DIVOC ereuqnoc lliw eW\""
   ]
  },
  {
   "cell_type": "code",
   "execution_count": 45,
   "metadata": {},
   "outputs": [
    {
     "name": "stdout",
     "output_type": "stream",
     "text": [
      "91-DIVOC ereuqnoc lliw eW\n"
     ]
    }
   ],
   "source": [
    "from collections import deque\n",
    "\n",
    "def reverse_string(string):\n",
    "    stack = deque()\n",
    "    string = string[::-1]\n",
    "    \n",
    "    for char in string.split():\n",
    "        stack.append(char)\n",
    "    print(*stack)\n",
    "    \n",
    "reverse_string(\"We will conquere COVID-19\")\n",
    "    \n",
    "    \n"
   ]
  },
  {
   "cell_type": "markdown",
   "metadata": {},
   "source": [
    "2. Write a function in python that checks if paranthesis in the string are balanced or not. Possible parantheses are \"{}',\"()\" or \"[]\". Use [Stack class](https://github.com/codebasics/data-structures-algorithms-python/blob/master/data_structures/5_Stack/5_stack.ipynb) from the tutorial.\n",
    "    ```\n",
    "    is_balanced(\"({a+b})\")     --> True\n",
    "    is_balanced(\"))((a+b}{\")   --> False\n",
    "    is_balanced(\"((a+b))\")     --> True\n",
    "    is_balanced(\"))\")          --> False\n",
    "    is_balanced(\"[a+b]*(x+2y)*{gg+kk}\") --> True\n"
   ]
  },
  {
   "cell_type": "code",
   "execution_count": 58,
   "metadata": {},
   "outputs": [],
   "source": [
    "def _is_match(ch1, ch2):\n",
    "    match = {\n",
    "        \"}\" : \"{\",\n",
    "        \")\" : \"(\",\n",
    "        \"]\" : \"[\"\n",
    "    }     \n",
    "    return match[ch1] == ch2      \n",
    "\n",
    "\n",
    "def is_balanced(item):\n",
    "    stack = deque()\n",
    "    # while size of stack less than length of character\n",
    "    for ch in item:\n",
    "    # check if the first character is being selected, then append to stack\n",
    "        if ch == \"{\" or ch == \"(\" or ch == \"[\":\n",
    "            stack.append(ch)\n",
    "    # if the charcter is the second, and size is sero return false\n",
    "        if ch == \"}\" or ch == \")\" or ch == \"]\":\n",
    "    # if not, check for match\n",
    "            if len(stack) == 0:\n",
    "                return False\n",
    "            if not _is_match(ch, stack.pop()):\n",
    "                return False\n",
    "\n",
    "    return len(stack) == 0"
   ]
  },
  {
   "cell_type": "code",
   "execution_count": 59,
   "metadata": {},
   "outputs": [
    {
     "data": {
      "text/plain": [
       "True"
      ]
     },
     "execution_count": 59,
     "metadata": {},
     "output_type": "execute_result"
    }
   ],
   "source": [
    "is_balanced(\"({a+b})\")     "
   ]
  },
  {
   "cell_type": "code",
   "execution_count": 60,
   "metadata": {},
   "outputs": [
    {
     "data": {
      "text/plain": [
       "False"
      ]
     },
     "execution_count": 60,
     "metadata": {},
     "output_type": "execute_result"
    }
   ],
   "source": [
    "is_balanced(\"))((a+b}{\")"
   ]
  }
 ],
 "metadata": {
  "kernelspec": {
   "display_name": "myenv",
   "language": "python",
   "name": "python3"
  },
  "language_info": {
   "codemirror_mode": {
    "name": "ipython",
    "version": 3
   },
   "file_extension": ".py",
   "mimetype": "text/x-python",
   "name": "python",
   "nbconvert_exporter": "python",
   "pygments_lexer": "ipython3",
   "version": "3.10.13"
  }
 },
 "nbformat": 4,
 "nbformat_minor": 2
}
